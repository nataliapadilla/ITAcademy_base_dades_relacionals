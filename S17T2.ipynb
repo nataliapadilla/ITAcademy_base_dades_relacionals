{
 "cells": [
  {
   "cell_type": "markdown",
   "id": "3a23c2e9",
   "metadata": {},
   "source": [
    "# Base de dades MySQL"
   ]
  },
  {
   "cell_type": "code",
   "execution_count": 1,
   "id": "430f5d0e",
   "metadata": {},
   "outputs": [],
   "source": [
    "import mysql.connector\n",
    "import pandas as pd\n",
    "import seaborn as sns"
   ]
  },
  {
   "cell_type": "markdown",
   "id": "5d60817d",
   "metadata": {},
   "source": [
    "# Exercici 1"
   ]
  },
  {
   "cell_type": "markdown",
   "id": "fd525c44",
   "metadata": {},
   "source": [
    "Crea una base de dades relacionals senzilla utilitzant MySQL(https://www.mysql.com/) i connecta-la a Python"
   ]
  },
  {
   "cell_type": "markdown",
   "id": "03999e21",
   "metadata": {},
   "source": [
    "Crearem una base de dades amb dues taules: Empleats i Departaments, tal i com es pot veure en la següent imatge:"
   ]
  },
  {
   "cell_type": "markdown",
   "id": "15661500",
   "metadata": {},
   "source": [
    "![base dades](base_dades.jpg)"
   ]
  },
  {
   "cell_type": "markdown",
   "id": "c6bc1bad",
   "metadata": {},
   "source": [
    "Utilitzarem el següent codi SQL per construir la base de dades i les taules amb les relacions corresponents:"
   ]
  },
  {
   "cell_type": "markdown",
   "id": "3f6c9d9b",
   "metadata": {},
   "source": [
    "```sql\n",
    "-- -----------------------------------------------------\n",
    "-- Schema mydb\n",
    "-- -----------------------------------------------------\n",
    "CREATE SCHEMA mydb;\n",
    "\n",
    "-- -----------------------------------------------------\n",
    "-- Table mydb.Departament\n",
    "-- -----------------------------------------------------\n",
    "CREATE TABLE mydb.Departament (\n",
    "  idDepartament INT NOT NULL,\n",
    "  Nom VARCHAR(45) NOT NULL,\n",
    "  Descripcio VARCHAR(200) NULL,\n",
    "  PRIMARY KEY (idDepartament))\n",
    "\n",
    "-- -----------------------------------------------------\n",
    "-- Table mydb.Empleat\n",
    "-- -----------------------------------------------------\n",
    "CREATE TABLE mydb.Empleat (\n",
    "  DNI INT NOT NULL,\n",
    "  Nom VARCHAR(45) NOT NULL,\n",
    "  Cognoms VARCHAR(45) NOT NULL,\n",
    "  Posicio VARCHAR(45) NOT NULL,\n",
    "  Salari INT NOT NULL,\n",
    "  Departament INT NOT NULL,\n",
    "  PRIMARY KEY (DNI),\n",
    "  CONSTRAINT Departament\n",
    "    FOREIGN KEY (Departament)\n",
    "    REFERENCES mydb.Departament (idDepartament))\n",
    "\n",
    "```"
   ]
  },
  {
   "cell_type": "markdown",
   "id": "e6fd55f3",
   "metadata": {},
   "source": [
    "Introduim unes dades:"
   ]
  },
  {
   "cell_type": "markdown",
   "id": "5d7c2298",
   "metadata": {},
   "source": [
    "```sql\n",
    "-- -----------------------------------------------------\n",
    "-- Data for table mydb.Departament\n",
    "-- -----------------------------------------------------\n",
    "START TRANSACTION;\n",
    "INSERT INTO mydb.Departament (`idDepartament`, `Nom`, `Descripcio`) VALUES (1, 'Finances', 'Finances i Comptabilitat');\n",
    "INSERT INTO mydb.Departament (`idDepartament`, `Nom`, `Descripcio`) VALUES (2, 'Marqueting', 'Marqueting i Ventes');\n",
    "INSERT INTO mydb.Departament (`idDepartament`, `Nom`, `Descripcio`) VALUES (3, 'IT', 'Informàtica');\n",
    "COMMIT;\n",
    "\n",
    "-- -----------------------------------------------------\n",
    "-- Data for table mydb.Empleat\n",
    "-- -----------------------------------------------------\n",
    "START TRANSACTION;\n",
    "INSERT INTO mydb.Empleat (`DNI`, `Nom`, `Cognoms`, `Posicio`, `Salari`, `Departament`) VALUES (46112233, 'Maria', 'González de la Campa', 'Accountant', 45000, 1);\n",
    "INSERT INTO mydb.Empleat (`DNI`, `Nom`, `Cognoms`, `Posicio`, `Salari`, `Departament`) VALUES (46112244, 'Javier', 'Romero Arcas', 'Financial manager', 55000, 1);\n",
    "INSERT INTO mydb.Empleat (`DNI`, `Nom`, `Cognoms`, `Posicio`, `Salari`, `Departament`) VALUES (46112255, 'Ana', 'Fernández Gutierrez', 'Marketing', 42000, 2);\n",
    "INSERT INTO mydb.Empleat (`DNI`, `Nom`, `Cognoms`, `Posicio`, `Salari`, `Departament`) VALUES (46112266, 'Luis', 'Nuñez Cuesta', 'Sales', 47000, 2);\n",
    "INSERT INTO mydb.Empleat (`DNI`, `Nom`, `Cognoms`, `Posicio`, `Salari`, `Departament`) VALUES (46112277, 'Marta', 'Viejo Campoamor', 'Software Engineer', 50000, 3);\n",
    "INSERT INTO mydb.Empleat (`DNI`, `Nom`, `Cognoms`, `Posicio`, `Salari`, `Departament`) VALUES (46112288, 'David', 'Sanchez Abad', 'DevOps', 60000, 3);\n",
    "COMMIT;\n",
    "```"
   ]
  },
  {
   "cell_type": "markdown",
   "id": "861d9177",
   "metadata": {},
   "source": [
    "Ara ja ens podem conectar des de Python i extreure les dades:"
   ]
  },
  {
   "cell_type": "code",
   "execution_count": 2,
   "id": "2a5bae23",
   "metadata": {},
   "outputs": [],
   "source": [
    "mydb = mysql.connector.connect(\n",
    "    host=\"localhost\",\n",
    "    user=\"test\",\n",
    "    password=\"password\",\n",
    "    database=\"mydb\"\n",
    ")"
   ]
  },
  {
   "cell_type": "code",
   "execution_count": 3,
   "id": "a5602206",
   "metadata": {},
   "outputs": [],
   "source": [
    "mycursor = mydb.cursor()"
   ]
  },
  {
   "cell_type": "code",
   "execution_count": 4,
   "id": "b0ff4e4e",
   "metadata": {},
   "outputs": [],
   "source": [
    "mycursor.execute(\"SELECT * FROM mydb.Departament;\")"
   ]
  },
  {
   "cell_type": "code",
   "execution_count": 5,
   "id": "a0f16598",
   "metadata": {},
   "outputs": [
    {
     "data": {
      "text/plain": [
       "[(1, 'Finances', 'Finances i Comptabilitat'),\n",
       " (2, 'Marqueting', 'Marqueting i Ventes'),\n",
       " (3, 'IT', 'Informàtica')]"
      ]
     },
     "execution_count": 5,
     "metadata": {},
     "output_type": "execute_result"
    }
   ],
   "source": [
    "mycursor.fetchall()"
   ]
  },
  {
   "cell_type": "code",
   "execution_count": 6,
   "id": "35bfc5d7",
   "metadata": {},
   "outputs": [],
   "source": [
    "mycursor.execute(\"SELECT * FROM mydb.Empleat;\")"
   ]
  },
  {
   "cell_type": "code",
   "execution_count": 7,
   "id": "33b7adfc",
   "metadata": {},
   "outputs": [
    {
     "data": {
      "text/plain": [
       "[(46112233, 'Maria', 'González de la Campa', 'Finances', 40000, 1),\n",
       " (46112244, 'Javier', 'Romero Arcas', 'Financial manager', 55000, 1),\n",
       " (46112255, 'Ana', 'Fernández Gutierrez', 'Marketing', 42000, 2),\n",
       " (46112266, 'Luis', 'Nuñez Cuesta', 'Sales', 47000, 2),\n",
       " (46112277, 'Marta', 'Viejo Campoamor', 'Software Engineer', 50000, 3),\n",
       " (46112288, 'David', 'Sanchez Abad', 'DevOps', 60000, 3)]"
      ]
     },
     "execution_count": 7,
     "metadata": {},
     "output_type": "execute_result"
    }
   ],
   "source": [
    "mycursor.fetchall()"
   ]
  },
  {
   "cell_type": "markdown",
   "id": "d2f6055d",
   "metadata": {},
   "source": [
    "# Exercici 2"
   ]
  },
  {
   "cell_type": "markdown",
   "id": "ff244f1f",
   "metadata": {},
   "source": [
    "Mostra que pots carregar algunes consultes senzilles a un Pandas Dataframe."
   ]
  },
  {
   "cell_type": "code",
   "execution_count": 8,
   "id": "51685e8f",
   "metadata": {},
   "outputs": [],
   "source": [
    "query = '''\n",
    "SELECT Nom, Cognoms, Salari\n",
    "FROM Empleat\n",
    "WHERE Salari >= 50000\n",
    "'''"
   ]
  },
  {
   "cell_type": "code",
   "execution_count": 9,
   "id": "c075d8d2",
   "metadata": {},
   "outputs": [],
   "source": [
    "mycursor.execute(query)"
   ]
  },
  {
   "cell_type": "code",
   "execution_count": 10,
   "id": "ca99317f",
   "metadata": {},
   "outputs": [],
   "source": [
    "empleats_salari_mes50K = pd.DataFrame(mycursor.fetchall(), columns=['Nom', 'Cognoms', 'Salari'])"
   ]
  },
  {
   "cell_type": "code",
   "execution_count": 11,
   "id": "a05bc95f",
   "metadata": {},
   "outputs": [
    {
     "data": {
      "text/html": [
       "<div>\n",
       "<style scoped>\n",
       "    .dataframe tbody tr th:only-of-type {\n",
       "        vertical-align: middle;\n",
       "    }\n",
       "\n",
       "    .dataframe tbody tr th {\n",
       "        vertical-align: top;\n",
       "    }\n",
       "\n",
       "    .dataframe thead th {\n",
       "        text-align: right;\n",
       "    }\n",
       "</style>\n",
       "<table border=\"1\" class=\"dataframe\">\n",
       "  <thead>\n",
       "    <tr style=\"text-align: right;\">\n",
       "      <th></th>\n",
       "      <th>Nom</th>\n",
       "      <th>Cognoms</th>\n",
       "      <th>Salari</th>\n",
       "    </tr>\n",
       "  </thead>\n",
       "  <tbody>\n",
       "    <tr>\n",
       "      <th>0</th>\n",
       "      <td>Javier</td>\n",
       "      <td>Romero Arcas</td>\n",
       "      <td>55000</td>\n",
       "    </tr>\n",
       "    <tr>\n",
       "      <th>1</th>\n",
       "      <td>Marta</td>\n",
       "      <td>Viejo Campoamor</td>\n",
       "      <td>50000</td>\n",
       "    </tr>\n",
       "    <tr>\n",
       "      <th>2</th>\n",
       "      <td>David</td>\n",
       "      <td>Sanchez Abad</td>\n",
       "      <td>60000</td>\n",
       "    </tr>\n",
       "  </tbody>\n",
       "</table>\n",
       "</div>"
      ],
      "text/plain": [
       "      Nom          Cognoms  Salari\n",
       "0  Javier     Romero Arcas   55000\n",
       "1   Marta  Viejo Campoamor   50000\n",
       "2   David     Sanchez Abad   60000"
      ]
     },
     "execution_count": 11,
     "metadata": {},
     "output_type": "execute_result"
    }
   ],
   "source": [
    "empleats_salari_mes50K"
   ]
  },
  {
   "cell_type": "code",
   "execution_count": 12,
   "id": "80cc373c",
   "metadata": {},
   "outputs": [],
   "source": [
    "query = '''\n",
    "SELECT E.Nom, E.Cognoms, E.Posicio, E.Salari, D.Nom\n",
    "FROM Empleat AS E\n",
    "INNER JOIN Departament AS D\n",
    "ON E.Departament = D.idDepartament;'''"
   ]
  },
  {
   "cell_type": "code",
   "execution_count": 13,
   "id": "d837132f",
   "metadata": {},
   "outputs": [],
   "source": [
    "mycursor.execute(query)"
   ]
  },
  {
   "cell_type": "code",
   "execution_count": 14,
   "id": "99002eb2",
   "metadata": {},
   "outputs": [],
   "source": [
    "data = pd.DataFrame(mycursor.fetchall(), columns=['Nom', 'Cognoms', 'Posició', 'Salari', 'Departament'])"
   ]
  },
  {
   "cell_type": "code",
   "execution_count": 15,
   "id": "a159d43f",
   "metadata": {},
   "outputs": [
    {
     "data": {
      "text/html": [
       "<div>\n",
       "<style scoped>\n",
       "    .dataframe tbody tr th:only-of-type {\n",
       "        vertical-align: middle;\n",
       "    }\n",
       "\n",
       "    .dataframe tbody tr th {\n",
       "        vertical-align: top;\n",
       "    }\n",
       "\n",
       "    .dataframe thead th {\n",
       "        text-align: right;\n",
       "    }\n",
       "</style>\n",
       "<table border=\"1\" class=\"dataframe\">\n",
       "  <thead>\n",
       "    <tr style=\"text-align: right;\">\n",
       "      <th></th>\n",
       "      <th>Nom</th>\n",
       "      <th>Cognoms</th>\n",
       "      <th>Posició</th>\n",
       "      <th>Salari</th>\n",
       "      <th>Departament</th>\n",
       "    </tr>\n",
       "  </thead>\n",
       "  <tbody>\n",
       "    <tr>\n",
       "      <th>0</th>\n",
       "      <td>Maria</td>\n",
       "      <td>González de la Campa</td>\n",
       "      <td>Finances</td>\n",
       "      <td>40000</td>\n",
       "      <td>Finances</td>\n",
       "    </tr>\n",
       "    <tr>\n",
       "      <th>1</th>\n",
       "      <td>Javier</td>\n",
       "      <td>Romero Arcas</td>\n",
       "      <td>Financial manager</td>\n",
       "      <td>55000</td>\n",
       "      <td>Finances</td>\n",
       "    </tr>\n",
       "    <tr>\n",
       "      <th>2</th>\n",
       "      <td>Ana</td>\n",
       "      <td>Fernández Gutierrez</td>\n",
       "      <td>Marketing</td>\n",
       "      <td>42000</td>\n",
       "      <td>Marqueting</td>\n",
       "    </tr>\n",
       "    <tr>\n",
       "      <th>3</th>\n",
       "      <td>Luis</td>\n",
       "      <td>Nuñez Cuesta</td>\n",
       "      <td>Sales</td>\n",
       "      <td>47000</td>\n",
       "      <td>Marqueting</td>\n",
       "    </tr>\n",
       "    <tr>\n",
       "      <th>4</th>\n",
       "      <td>Marta</td>\n",
       "      <td>Viejo Campoamor</td>\n",
       "      <td>Software Engineer</td>\n",
       "      <td>50000</td>\n",
       "      <td>IT</td>\n",
       "    </tr>\n",
       "    <tr>\n",
       "      <th>5</th>\n",
       "      <td>David</td>\n",
       "      <td>Sanchez Abad</td>\n",
       "      <td>DevOps</td>\n",
       "      <td>60000</td>\n",
       "      <td>IT</td>\n",
       "    </tr>\n",
       "  </tbody>\n",
       "</table>\n",
       "</div>"
      ],
      "text/plain": [
       "      Nom               Cognoms            Posició  Salari Departament\n",
       "0   Maria  González de la Campa           Finances   40000    Finances\n",
       "1  Javier          Romero Arcas  Financial manager   55000    Finances\n",
       "2     Ana   Fernández Gutierrez          Marketing   42000  Marqueting\n",
       "3    Luis          Nuñez Cuesta              Sales   47000  Marqueting\n",
       "4   Marta       Viejo Campoamor  Software Engineer   50000          IT\n",
       "5   David          Sanchez Abad             DevOps   60000          IT"
      ]
     },
     "execution_count": 15,
     "metadata": {},
     "output_type": "execute_result"
    }
   ],
   "source": [
    "data"
   ]
  },
  {
   "cell_type": "code",
   "execution_count": 16,
   "id": "467efab0",
   "metadata": {},
   "outputs": [],
   "source": [
    "query = '''\n",
    "SELECT D.Nom, AVG(E.Salari)\n",
    "FROM Empleat AS E\n",
    "INNER JOIN Departament AS D\n",
    "ON E.Departament = D.idDepartament\n",
    "GROUP BY E.Departament\n",
    "'''"
   ]
  },
  {
   "cell_type": "code",
   "execution_count": 17,
   "id": "bb02b4c2",
   "metadata": {},
   "outputs": [],
   "source": [
    "mycursor.execute(query)"
   ]
  },
  {
   "cell_type": "code",
   "execution_count": 18,
   "id": "0bc3986b",
   "metadata": {},
   "outputs": [],
   "source": [
    "salari_mitja_departament = pd.DataFrame(mycursor.fetchall(), columns=['Departament', 'Salari Mitjà'])"
   ]
  },
  {
   "cell_type": "code",
   "execution_count": 19,
   "id": "32d9ff2e",
   "metadata": {},
   "outputs": [
    {
     "data": {
      "text/html": [
       "<div>\n",
       "<style scoped>\n",
       "    .dataframe tbody tr th:only-of-type {\n",
       "        vertical-align: middle;\n",
       "    }\n",
       "\n",
       "    .dataframe tbody tr th {\n",
       "        vertical-align: top;\n",
       "    }\n",
       "\n",
       "    .dataframe thead th {\n",
       "        text-align: right;\n",
       "    }\n",
       "</style>\n",
       "<table border=\"1\" class=\"dataframe\">\n",
       "  <thead>\n",
       "    <tr style=\"text-align: right;\">\n",
       "      <th></th>\n",
       "      <th>Departament</th>\n",
       "      <th>Salari Mitjà</th>\n",
       "    </tr>\n",
       "  </thead>\n",
       "  <tbody>\n",
       "    <tr>\n",
       "      <th>0</th>\n",
       "      <td>Finances</td>\n",
       "      <td>47500.0000</td>\n",
       "    </tr>\n",
       "    <tr>\n",
       "      <th>1</th>\n",
       "      <td>Marqueting</td>\n",
       "      <td>44500.0000</td>\n",
       "    </tr>\n",
       "    <tr>\n",
       "      <th>2</th>\n",
       "      <td>IT</td>\n",
       "      <td>55000.0000</td>\n",
       "    </tr>\n",
       "  </tbody>\n",
       "</table>\n",
       "</div>"
      ],
      "text/plain": [
       "  Departament Salari Mitjà\n",
       "0    Finances   47500.0000\n",
       "1  Marqueting   44500.0000\n",
       "2          IT   55000.0000"
      ]
     },
     "execution_count": 19,
     "metadata": {},
     "output_type": "execute_result"
    }
   ],
   "source": [
    "salari_mitja_departament"
   ]
  },
  {
   "cell_type": "markdown",
   "id": "77a45652",
   "metadata": {},
   "source": [
    "# Exercici 3"
   ]
  },
  {
   "cell_type": "markdown",
   "id": "9dac95bb",
   "metadata": {},
   "source": [
    "Genera algun gràfic que resumeixi les dades. "
   ]
  },
  {
   "cell_type": "code",
   "execution_count": 20,
   "id": "5e35cf16",
   "metadata": {},
   "outputs": [
    {
     "data": {
      "text/plain": [
       "<AxesSubplot:xlabel='Departament', ylabel='Salari'>"
      ]
     },
     "execution_count": 20,
     "metadata": {},
     "output_type": "execute_result"
    },
    {
     "data": {
      "image/png": "[encoded data removed]",
      "text/plain": [
       "<Figure size 432x288 with 1 Axes>"
      ]
     },
     "metadata": {
      "needs_background": "light"
     },
     "output_type": "display_data"
    }
   ],
   "source": [
    "sns.barplot(\n",
    "    data = data,\n",
    "    x = 'Departament',\n",
    "    y = 'Salari'\n",
    ")"
   ]
  },
  {
   "cell_type": "code",
   "execution_count": null,
   "id": "01f7e0cb",
   "metadata": {},
   "outputs": [],
   "source": []
  }
 ],
 "metadata": {
  "kernelspec": {
   "display_name": "Python 3",
   "language": "python",
   "name": "python3"
  },
  "language_info": {
   "codemirror_mode": {
    "name": "ipython",
    "version": 3
   },
   "file_extension": ".py",
   "mimetype": "text/x-python",
   "name": "python",
   "nbconvert_exporter": "python",
   "pygments_lexer": "ipython3",
   "version": "3.8.10"
  },
  "toc": {
   "base_numbering": 1,
   "nav_menu": {},
   "number_sections": false,
   "sideBar": true,
   "skip_h1_title": false,
   "title_cell": "Table of Contents",
   "title_sidebar": "Contents",
   "toc_cell": false,
   "toc_position": {},
   "toc_section_display": true,
   "toc_window_display": false
  }
 },
 "nbformat": 4,
 "nbformat_minor": 5
}
